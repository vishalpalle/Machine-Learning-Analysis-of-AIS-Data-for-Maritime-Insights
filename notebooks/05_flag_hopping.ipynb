{
 "cells": [
  {
   "cell_type": "code",
   "execution_count": 2,
   "id": "40550a7c-8a9e-4617-bbe1-54e006e5f7b0",
   "metadata": {},
   "outputs": [],
   "source": [
    "import pandas as pd\n",
    "\n",
    "# Step 1: Load cleaned AIS dataset\n",
    "df = pd.read_csv(\"../data/ais_cleaned.csv\", parse_dates=[\"Timestamp\"])\n"
   ]
  },
  {
   "cell_type": "code",
   "execution_count": 3,
   "id": "5dd9aec0-9eba-413a-9077-e8f46cc39110",
   "metadata": {},
   "outputs": [],
   "source": [
    "# Step 2: Infer MID and map to Country\n",
    "df['MID'] = df['MMSI'].astype(str).str[:3].astype(int)"
   ]
  },
  {
   "cell_type": "code",
   "execution_count": 11,
   "id": "2709ef34-4f74-4de0-adaf-6f4650e358b3",
   "metadata": {},
   "outputs": [],
   "source": [
    "#these are taken from the official ITU MID-to-Country mapping\n",
    "mid_country = {\n",
    "    105: 'RU',  # Russia\n",
    "    191: 'HR',  # Croatia\n",
    "    210: 'CY',  # Cyprus\n",
    "    212: 'CY',  # Cyprus\n",
    "    215: 'MT',  # Malta\n",
    "    220: 'SI',  # Slovenia\n",
    "    229: 'MT',  # Malta\n",
    "    232: 'UK',  # United Kingdom\n",
    "    241: 'ES',  # Spain\n",
    "    246: 'FI',  # Finland\n",
    "    248: 'EE',  # Estonia\n",
    "    249: 'CY',  # Cyprus\n",
    "    255: 'PT',  # Portugal\n",
    "    259: 'IS',  # Iceland\n",
    "    303: 'CA',  # Canada\n",
    "    309: 'BM',  # Bermuda\n",
    "    311: 'AG',  # Antigua and Barbuda\n",
    "    314: 'US',  # United States\n",
    "    316: 'CA',  # Canada\n",
    "    319: 'GP',  # Guadeloupe\n",
    "    338: 'GL',  # Greenland\n",
    "    339: 'VG',  # British Virgin Islands\n",
    "    345: 'KY',  # Cayman Islands\n",
    "    354: 'US',  # US Virgin Islands\n",
    "    366: 'US',  # United States\n",
    "    367: 'US',  # United States\n",
    "    368: 'US',  # United States\n",
    "    369: 'US',  # United States\n",
    "    372: 'US',  # United States\n",
    "    373: 'US',  # United States\n",
    "    374: 'US',  # United States\n",
    "    414: 'KP',  # North Korea\n",
    "    431: 'JP',  # Japan\n",
    "    441: 'KR',  # South Korea\n",
    "    463: 'HK',  # Hong Kong\n",
    "    477: 'AU',  # Australia\n",
    "    499: 'MY',  # Malaysia\n",
    "    503: 'AU',  # Australia\n",
    "    538: 'FM',  # Micronesia\n",
    "    563: 'NZ',  # New Zealand\n",
    "    565: 'TO',  # Tonga\n",
    "    566: 'WF',  # Wallis and Futuna\n",
    "    567: 'VU',  # Vanuatu\n",
    "    577: 'WS',  # Samoa\n",
    "    636: 'EG'   # Egypt\n",
    "}\n"
   ]
  },
  {
   "cell_type": "code",
   "execution_count": 5,
   "id": "4e13263a-d1af-4c81-a3d8-93d512c7d9ef",
   "metadata": {},
   "outputs": [],
   "source": [
    "df['Country'] = df['MID'].map(mid_country).fillna('Unknown')"
   ]
  },
  {
   "cell_type": "code",
   "execution_count": 6,
   "id": "f0dc0991-4a46-4e19-8e14-1c28a2420fb5",
   "metadata": {},
   "outputs": [],
   "source": [
    "# Step 3: Sort by MMSI and Timestamp\n",
    "df = df.sort_values(['MMSI', 'Timestamp']).reset_index(drop=True)\n",
    "\n",
    "# Step 4: Get previous country per MMSI\n",
    "df['PrevCountry'] = df.groupby('MMSI')['Country'].shift(1)"
   ]
  },
  {
   "cell_type": "code",
   "execution_count": 7,
   "id": "16300961-a685-4dec-8dbf-3a4cc359037f",
   "metadata": {},
   "outputs": [],
   "source": [
    "# Step 5: Flag where country has changed\n",
    "df['FlagChange'] = ((df['PrevCountry'].notna()) & (df['Country'] != df['PrevCountry'])).astype(int)\n",
    "\n",
    "# Step 6: Compute time difference in hours between consecutive entries for same MMSI\n",
    "df['TimeDelta_hrs'] = df.groupby('MMSI')['Timestamp'].diff().dt.total_seconds() / 3600.0"
   ]
  },
  {
   "cell_type": "code",
   "execution_count": 8,
   "id": "9e18e566-4753-4f8b-b100-07be2d8ca847",
   "metadata": {},
   "outputs": [],
   "source": [
    "# Step 7: Mark suspicious hops (flag change within 24 hours)\n",
    "df['SuspiciousHop'] = df.apply(\n",
    "    lambda row: 1 if (row['FlagChange'] == 1 and row['TimeDelta_hrs'] < 24) else 0,\n",
    "    axis=1\n",
    ")"
   ]
  },
  {
   "cell_type": "code",
   "execution_count": 9,
   "id": "e350485c-5c4e-4e76-9a23-217ab0aa64f7",
   "metadata": {},
   "outputs": [
    {
     "name": "stdout",
     "output_type": "stream",
     "text": [
      "=== Flag-Hop Events (Country Changed within 24 hrs) ===\n",
      "Empty DataFrame\n",
      "Columns: [MMSI, Timestamp, PrevCountry, Country, TimeDelta_hrs]\n",
      "Index: []\n"
     ]
    }
   ],
   "source": [
    "# Step 8: Extract and save flag-hopping events\n",
    "flag_hops = df[df['SuspiciousHop'] == 1][[\n",
    "    'MMSI', 'Timestamp', 'PrevCountry', 'Country', 'TimeDelta_hrs'\n",
    "]]\n",
    "\n",
    "print(\"=== Flag-Hop Events (Country Changed within 24 hrs) ===\")\n",
    "print(flag_hops)"
   ]
  },
  {
   "cell_type": "code",
   "execution_count": 10,
   "id": "7c1bba45-91f0-4cef-8996-e484d9e9815d",
   "metadata": {},
   "outputs": [
    {
     "data": {
      "text/plain": [
       "MMSI\n",
       "367593050    2\n",
       "367102610    2\n",
       "368024740    2\n",
       "368083770    2\n",
       "366811310    2\n",
       "Name: count, dtype: int64"
      ]
     },
     "execution_count": 10,
     "metadata": {},
     "output_type": "execute_result"
    }
   ],
   "source": [
    "df['MMSI'].value_counts().head()"
   ]
  },
  {
   "cell_type": "code",
   "execution_count": null,
   "id": "b3e47cb1-d5a6-4542-8cc8-b166060353e2",
   "metadata": {},
   "outputs": [],
   "source": []
  }
 ],
 "metadata": {
  "kernelspec": {
   "display_name": "Python 3 (ipykernel)",
   "language": "python",
   "name": "python3"
  },
  "language_info": {
   "codemirror_mode": {
    "name": "ipython",
    "version": 3
   },
   "file_extension": ".py",
   "mimetype": "text/x-python",
   "name": "python",
   "nbconvert_exporter": "python",
   "pygments_lexer": "ipython3",
   "version": "3.12.10"
  }
 },
 "nbformat": 4,
 "nbformat_minor": 5
}
